{
 "cells": [
  {
   "cell_type": "markdown",
   "source": [
    "# PyTorch Categorical Classifier Example\n",
    "\n",
    "pip install torch torchvision numpy scipy numpy matplotlib scikit-learn scikit-image jupyterlab"
   ],
   "metadata": {}
  },
  {
   "cell_type": "code",
   "execution_count": 1,
   "source": [
    "from collections import Counter\n",
    "import random\n",
    "import time\n",
    "from pathlib import Path\n",
    "\n",
    "import numpy as np\n",
    "import matplotlib.pyplot as plt\n",
    "import skimage.io as skimageio\n",
    "from sklearn.model_selection import train_test_split\n",
    "from sklearn.metrics import confusion_matrix, classification_report\n",
    "from sklearn.metrics import roc_curve, roc_auc_score\n",
    "\n",
    "import torch\n",
    "from torch.utils.data import DataLoader, Dataset\n",
    "\n",
    "# torchvision is a PyTorch package with pretrained networks etc etc\n",
    "import torchvision\n",
    "from torchvision import transforms, models\n",
    "\n",
    "from PIL import Image "
   ],
   "outputs": [],
   "metadata": {}
  },
  {
   "cell_type": "markdown",
   "source": [
    "# Set the main variables"
   ],
   "metadata": {}
  },
  {
   "cell_type": "code",
   "execution_count": 2,
   "source": [
    "batch_size = 10\n",
    "nepochs = 5\n",
    "lr = 1e-4\n",
    "\n",
    "# Use a subset of the total files\n",
    "Nfiles = 2000\n",
    "\n",
    "labels = ['HeadCT', 'Hand']\n",
    "\n",
    "# ImageNet Transfer Learning Requirments\n",
    "data_mean = [0.485, 0.456, 0.406]\n",
    "data_std = [0.229, 0.224, 0.225]"
   ],
   "outputs": [],
   "metadata": {}
  },
  {
   "cell_type": "code",
   "execution_count": 3,
   "source": [
    "def accuracy(predicted, true):\n",
    "    return (torch.argmax(predicted, dim=1)==true).float().mean() * 100\n",
    "\n",
    "def plot_confusion_matrix(cm,\n",
    "                          target_names,\n",
    "                          title='Confusion matrix',\n",
    "                          cmap=None,\n",
    "                          normalize=True):\n",
    "    \"\"\"\n",
    "    given a sklearn confusion matrix (cm), make a nice plot\n",
    "\n",
    "    Arguments\n",
    "    ---------\n",
    "    cm:           confusion matrix from sklearn.metrics.confusion_matrix\n",
    "\n",
    "    target_names: given classification classes such as [0, 1, 2]\n",
    "                  the class names, for example: ['high', 'medium', 'low']\n",
    "\n",
    "    title:        the text to display at the top of the matrix\n",
    "\n",
    "    cmap:         the gradient of the values displayed from matplotlib.pyplot.cm\n",
    "                  see http://matplotlib.org/examples/color/colormaps_reference.html\n",
    "                  plt.get_cmap('jet') or plt.cm.Blues\n",
    "\n",
    "    normalize:    If False, plot the raw numbers\n",
    "                  If True, plot the proportions\n",
    "\n",
    "    Usage\n",
    "    -----\n",
    "    plot_confusion_matrix(cm           = cm,                  # confusion matrix created by\n",
    "                                                              # sklearn.metrics.confusion_matrix\n",
    "                          normalize    = True,                # show proportions\n",
    "                          target_names = y_labels_vals,       # list of names of the classes\n",
    "                          title        = best_estimator_name) # title of graph\n",
    "\n",
    "    Citiation\n",
    "    ---------\n",
    "    http://scikit-learn.org/stable/auto_examples/model_selection/plot_confusion_matrix.html\n",
    "\n",
    "    \"\"\"\n",
    "    import matplotlib.pyplot as plt\n",
    "    import numpy as np\n",
    "    import itertools\n",
    "\n",
    "    accuracy = np.trace(cm) / np.sum(cm).astype('float')\n",
    "    misclass = 1 - accuracy\n",
    "\n",
    "    if cmap is None:\n",
    "        cmap = plt.get_cmap('Blues')\n",
    "\n",
    "    plt.figure(figsize=(5, 4))\n",
    "    plt.imshow(cm, interpolation='nearest', cmap=cmap)\n",
    "    plt.title(title)\n",
    "    plt.colorbar()\n",
    "\n",
    "    if target_names is not None:\n",
    "        tick_marks = np.arange(len(target_names))\n",
    "        plt.xticks(tick_marks, target_names, rotation=45)\n",
    "        plt.yticks(tick_marks, target_names)\n",
    "\n",
    "    if normalize:\n",
    "        cm = cm.astype('float') / cm.sum(axis=1)[:, np.newaxis]\n",
    "\n",
    "\n",
    "    thresh = cm.max() / 1.5 if normalize else cm.max() / 2\n",
    "    for i, j in itertools.product(range(cm.shape[0]), range(cm.shape[1])):\n",
    "        if normalize:\n",
    "            plt.text(j, i, \"{:0.4f}\".format(cm[i, j]),\n",
    "                     horizontalalignment=\"center\",\n",
    "                     color=\"white\" if cm[i, j] > thresh else \"black\")\n",
    "        else:\n",
    "            plt.text(j, i, \"{:,}\".format(cm[i, j]),\n",
    "                     horizontalalignment=\"center\",\n",
    "                     color=\"white\" if cm[i, j] > thresh else \"black\")\n",
    "\n",
    "\n",
    "    plt.tight_layout()\n",
    "    plt.ylabel('True label')\n",
    "    plt.xlabel('Predicted label\\naccuracy={:0.4f}; misclass={:0.4f}'.format(accuracy, misclass))\n",
    "    plt.show()\n"
   ],
   "outputs": [],
   "metadata": {}
  },
  {
   "cell_type": "code",
   "execution_count": 4,
   "source": [
    "\n",
    "#\n",
    "# GPU CPU - nice way to setup the device as it works on any machine\n",
    "#\n",
    "device = \"cuda\" if torch.cuda.is_available() else \"cpu\"\n",
    "\n",
    "print(f'Device is {device}')\n",
    "\n",
    "if device == 'cuda':\n",
    "    print(f'CUDA device {torch.cuda.device(0)}')\n",
    "    print(f'Number of devices: {torch.cuda.device_count()}')\n",
    "    print(f'Device name: {torch.cuda.get_device_name(0)}')"
   ],
   "outputs": [
    {
     "output_type": "stream",
     "name": "stdout",
     "text": [
      "Device is cuda\n",
      "CUDA device <torch.cuda.device object at 0x7f009cadba90>\n",
      "Number of devices: 2\n",
      "Device name: TITAN Xp\n"
     ]
    }
   ],
   "metadata": {}
  },
  {
   "cell_type": "markdown",
   "source": [
    "# Section 1: Data Setup\n",
    "\n",
    "In the end all data is of the form `channels x slices x rows x columns`"
   ],
   "metadata": {}
  },
  {
   "cell_type": "markdown",
   "source": [
    "## Create Dataset Class"
   ],
   "metadata": {}
  },
  {
   "cell_type": "code",
   "execution_count": 5,
   "source": [
    "class MedMNISTDataset(Dataset):\n",
    "    \n",
    "    def __init__(self, filenames, labels, transform):\n",
    "        \"\"\"\n",
    "        Initialized\n",
    "        \"\"\"\n",
    "        super().__init__()\n",
    "        \n",
    "        # Store variables we are interested in...\n",
    "        \n",
    "        self._filenames = filenames\n",
    "        self._labels = labels\n",
    "\n",
    "        # Randomize the filenames as we don't want all the dogs first\n",
    "        random.shuffle(self._filenames)\n",
    "        \n",
    "        self._transforms = transform\n",
    "        \n",
    "        \n",
    "    def __getitem__(self, index):\n",
    "        \"\"\"\n",
    "        Get a single image / label pair.\n",
    "        \"\"\"\n",
    "        \n",
    "        #\n",
    "        # Read in the image\n",
    "        #\n",
    "        image = skimageio.imread(self._filenames[index])        \n",
    "\n",
    "        # It seems some PyTorch transforms are tied to PIL so need\n",
    "        # to create the PIL from the numpy array\n",
    "        image = Image.fromarray(image)\n",
    "\n",
    "        #\n",
    "        #  Can do further processing here or anything else\n",
    "        #\n",
    "        \n",
    "        # image = clahe(image)\n",
    "        \n",
    "        #\n",
    "        # Do transformations on it (typicalyl data augmentation)\n",
    "        #\n",
    "        if self._transforms is not None:\n",
    "            image = self._transforms(image)\n",
    "        \n",
    "        #\n",
    "        # Create the label.. \n",
    "        #\n",
    "        label = self._labels.index(str(self._filenames[index].parent.name))\n",
    "        \n",
    "        #\n",
    "        # Return the image label pair\n",
    "        #\n",
    "        return image, label # and anything else you want\n",
    "    \n",
    "    @property\n",
    "    def labels(self):\n",
    "        return [str(x.parent.name) for x in self._filenames]\n",
    "\n",
    "\n",
    "    def __len__(self):\n",
    "        \"\"\"\n",
    "        Return length of the dataset\n",
    "        \"\"\"\n",
    "        return len(self._filenames)\n",
    "        "
   ],
   "outputs": [],
   "metadata": {}
  },
  {
   "cell_type": "markdown",
   "source": [
    "# Set the Files"
   ],
   "metadata": {}
  },
  {
   "cell_type": "code",
   "execution_count": 6,
   "source": [
    "path = Path(\"data\")\n",
    "\n",
    "# Create a list of filenames from the directories in \"labels\"\n",
    "filenames = []\n",
    "for label in labels:\n",
    "    filenames += list(path.glob(f'{label}/*jpeg'))\n",
    "\n",
    "random.shuffle(filenames)\n",
    "\n",
    "#\n",
    "# If we are going to choose a subset, do it here.\n",
    "#\n",
    "if Nfiles is not None:\n",
    "    filenames = filenames[:Nfiles]\n",
    "\n",
    "tt, filenames_test = train_test_split(filenames, test_size=0.2)\n",
    "filenames_train, filenames_validation = train_test_split(tt, test_size=0.1)\n",
    "\n",
    "print(f'There are {len(filenames_train)} training files.')\n",
    "print(f'There are {len(filenames_validation)} validation files.')\n",
    "print(f'There are {len(filenames_test)} testing files.')"
   ],
   "outputs": [
    {
     "output_type": "stream",
     "name": "stdout",
     "text": [
      "There are 1440 training files.\n",
      "There are 160 validation files.\n",
      "There are 400 testing files.\n"
     ]
    }
   ],
   "metadata": {}
  },
  {
   "cell_type": "markdown",
   "source": [
    "## Training Dataset and DataLoader\n",
    "\n",
    "Artifically create a class imbalance with fewer dog images... BUT, it will probably still be reasonably accurate in the end as the neural network is trained on ImageNet data which includes dogs and cats."
   ],
   "metadata": {}
  },
  {
   "cell_type": "code",
   "execution_count": 7,
   "source": [
    "#\n",
    "#  Training dataset\n",
    "#\n",
    "\n",
    "# Data Augmentation!\n",
    "train_transform = transforms.Compose([\n",
    "                                transforms.Grayscale(num_output_channels=3),\n",
    "                                transforms.Resize(224),\n",
    "                                transforms.RandomVerticalFlip(),\n",
    "                                transforms.RandomAffine(degrees=5, scale=(0.9, 1.1), translate=(0.05, 0.05)),\n",
    "    \n",
    "                                # converts 0-255 to 0-1 and rowxcolxchan to chanxrowxcol\n",
    "                                transforms.ToTensor(),\n",
    "\n",
    "                                transforms.Normalize(mean=data_mean,\n",
    "                                                     std=data_std)])\n",
    "\n",
    "# Create the training dataset\n",
    "train_dataset = MedMNISTDataset(filenames_train, labels, transform=train_transform)\n",
    "\n",
    "# #\n",
    "# # Create a Weighted Sampler -- I beleive this is all correct. \n",
    "# #\n",
    "\n",
    "# class_counts = [len(path_training_cat), len(path_training_dog)]\n",
    "# print('Class Counts/Imbalance', class_counts)\n",
    "\n",
    "# # Total samples\n",
    "# num_samples = sum(class_counts)\n",
    "\n",
    "# # Get all the labels\n",
    "# labels = train_dataset.labels #corresponding labels of samples\n",
    "\n",
    "# # Class imbalance, want to weight more toward the one that has *fewer*\n",
    "# class_weights = [num_samples/class_counts[i] for i in range(len(class_counts))]\n",
    "\n",
    "# # Create a list that has a weight value for every image/label in the dataset\n",
    "# weights = [class_weights[labels[i]] for i in range(int(num_samples))]\n",
    "\n",
    "# # Create the sampler\n",
    "# weighted_sampler = WeightedRandomSampler(torch.DoubleTensor(weights), int(num_samples))\n",
    "\n",
    "#\n",
    "# Create the training dataloader\n",
    "#\n",
    "# train_dataloader = DataLoader(train_dataset, sampler=weighted_sampler, batch_size=batch_size)\n",
    "train_dataloader = DataLoader(train_dataset, batch_size=batch_size)"
   ],
   "outputs": [],
   "metadata": {}
  },
  {
   "cell_type": "markdown",
   "source": [
    "## Validation Dataset and DataLoader"
   ],
   "metadata": {}
  },
  {
   "cell_type": "code",
   "execution_count": 8,
   "source": [
    "#\n",
    "#  Validation dataset\n",
    "#\n",
    "validation_transform = transforms.Compose([\n",
    "                    transforms.Grayscale(num_output_channels=3),\n",
    "\n",
    "                    transforms.Resize(224),\n",
    "\n",
    "                    # converts 0-255 to 0-1 and rowxcolxchan to chanxrowxcol\n",
    "                    transforms.ToTensor(),\n",
    "\n",
    "                    transforms.Normalize(mean=data_mean,\n",
    "                                         std=data_std)])\n",
    "\n",
    "# Create the validation dataset\n",
    "validation_dataset = MedMNISTDataset(filenames_validation, labels, transform=validation_transform)\n",
    "\n",
    "# Create the validation dataloader\n",
    "validation_dataloader = DataLoader(validation_dataset, batch_size=batch_size)"
   ],
   "outputs": [],
   "metadata": {}
  },
  {
   "cell_type": "code",
   "execution_count": 9,
   "source": [
    "print(\"train data set:\", len(train_dataset))\n",
    "print(\"val data set:\", len(validation_dataset))"
   ],
   "outputs": [
    {
     "output_type": "stream",
     "name": "stdout",
     "text": [
      "train data set: 1440\n",
      "val data set: 160\n"
     ]
    }
   ],
   "metadata": {}
  },
  {
   "cell_type": "markdown",
   "source": [
    "# Show Training and Validation Distribution"
   ],
   "metadata": {}
  },
  {
   "cell_type": "code",
   "execution_count": 10,
   "source": [
    "train_labels = Counter(train_dataset.labels)\n",
    "validation_labels = Counter(validation_dataset.labels)\n",
    "\n",
    "plt.figure(figsize=[9,4])\n",
    "\n",
    "plt.subplot(1,3,1)\n",
    "plt.bar(labels, [train_labels[x] for x in labels])\n",
    "plt.title('Training Data')\n",
    "\n",
    "plt.subplot(1,3,2)\n",
    "plt.bar(labels, [validation_labels[x] for x in labels])\n",
    "plt.title('Validation Data')\n",
    "\n",
    "plt.subplot(1,3,3)\n",
    "plt.bar(labels, [validation_labels[x] for x in labels])\n",
    "plt.title('Test Data')"
   ],
   "outputs": [
    {
     "output_type": "execute_result",
     "data": {
      "text/plain": [
       "Text(0.5, 1.0, 'Test Data')"
      ]
     },
     "metadata": {},
     "execution_count": 10
    },
    {
     "output_type": "display_data",
     "data": {
      "image/png": "[encoded data removed]",
      "text/plain": [
       "<Figure size 648x288 with 3 Axes>"
      ]
     },
     "metadata": {
      "needs_background": "light"
     }
    }
   ],
   "metadata": {}
  },
  {
   "cell_type": "markdown",
   "source": [
    "# Show Example Images\n",
    "\n",
    "Note, randomly flipped rotated etc"
   ],
   "metadata": {}
  },
  {
   "cell_type": "code",
   "execution_count": 11,
   "source": [
    "#\n",
    "#  Example image\n",
    "#\n",
    "X_train,y_train = next(iter(train_dataloader))\n",
    "img = torchvision.utils.make_grid(X_train)\n",
    "\n",
    "# Put channels last\n",
    "img = img.numpy().transpose((1,2,0))\n",
    "\n",
    "# \"denormalize\" the data\n",
    "img = img*data_std + data_mean\n",
    "\n",
    "plt.figure(figsize=[12,5])\n",
    "plt.imshow(img)"
   ],
   "outputs": [
    {
     "output_type": "stream",
     "name": "stderr",
     "text": [
      "Clipping input data to the valid range for imshow with RGB data ([0..1] for floats or [0..255] for integers).\n"
     ]
    },
    {
     "output_type": "execute_result",
     "data": {
      "text/plain": [
       "<matplotlib.image.AxesImage at 0x7f0092e671f0>"
      ]
     },
     "metadata": {},
     "execution_count": 11
    },
    {
     "output_type": "display_data",
     "data": {
      "image/png": "[encoded data removed]",
      "text/plain": [
       "<Figure size 864x360 with 1 Axes>"
      ]
     },
     "metadata": {
      "needs_background": "light"
     }
    }
   ],
   "metadata": {}
  },
  {
   "cell_type": "markdown",
   "source": [
    "# Section 2: Model Creation"
   ],
   "metadata": {}
  },
  {
   "cell_type": "code",
   "execution_count": 12,
   "source": [
    "#\n",
    "#  Create the model\n",
    "#\n",
    "#  https://pytorch.org/docs/stable/torchvision/models.html\n",
    "#\n",
    "\n",
    "# Load the VGG pretrained model from torchvision\n",
    "model = models.vgg16(pretrained=True)\n",
    "\n",
    "#\n",
    "# Create the classifier part to add to the end of it.\n",
    "# An alternative methodis `torch.no_grad()`\n",
    "# https://stackoverflow.com/questions/51748138/pytorch-how-to-set-requires-grad-false\n",
    "#    Note: \"classifier\" may not be the correct ending, it depends on the model.\n",
    "#\n",
    "model.classifier[6] = torch.nn.Linear(4096, 2)\n",
    "\n",
    "\n",
    "model.to(device)"
   ],
   "outputs": [
    {
     "output_type": "execute_result",
     "data": {
      "text/plain": [
       "VGG(\n",
       "  (features): Sequential(\n",
       "    (0): Conv2d(3, 64, kernel_size=(3, 3), stride=(1, 1), padding=(1, 1))\n",
       "    (1): ReLU(inplace=True)\n",
       "    (2): Conv2d(64, 64, kernel_size=(3, 3), stride=(1, 1), padding=(1, 1))\n",
       "    (3): ReLU(inplace=True)\n",
       "    (4): MaxPool2d(kernel_size=2, stride=2, padding=0, dilation=1, ceil_mode=False)\n",
       "    (5): Conv2d(64, 128, kernel_size=(3, 3), stride=(1, 1), padding=(1, 1))\n",
       "    (6): ReLU(inplace=True)\n",
       "    (7): Conv2d(128, 128, kernel_size=(3, 3), stride=(1, 1), padding=(1, 1))\n",
       "    (8): ReLU(inplace=True)\n",
       "    (9): MaxPool2d(kernel_size=2, stride=2, padding=0, dilation=1, ceil_mode=False)\n",
       "    (10): Conv2d(128, 256, kernel_size=(3, 3), stride=(1, 1), padding=(1, 1))\n",
       "    (11): ReLU(inplace=True)\n",
       "    (12): Conv2d(256, 256, kernel_size=(3, 3), stride=(1, 1), padding=(1, 1))\n",
       "    (13): ReLU(inplace=True)\n",
       "    (14): Conv2d(256, 256, kernel_size=(3, 3), stride=(1, 1), padding=(1, 1))\n",
       "    (15): ReLU(inplace=True)\n",
       "    (16): MaxPool2d(kernel_size=2, stride=2, padding=0, dilation=1, ceil_mode=False)\n",
       "    (17): Conv2d(256, 512, kernel_size=(3, 3), stride=(1, 1), padding=(1, 1))\n",
       "    (18): ReLU(inplace=True)\n",
       "    (19): Conv2d(512, 512, kernel_size=(3, 3), stride=(1, 1), padding=(1, 1))\n",
       "    (20): ReLU(inplace=True)\n",
       "    (21): Conv2d(512, 512, kernel_size=(3, 3), stride=(1, 1), padding=(1, 1))\n",
       "    (22): ReLU(inplace=True)\n",
       "    (23): MaxPool2d(kernel_size=2, stride=2, padding=0, dilation=1, ceil_mode=False)\n",
       "    (24): Conv2d(512, 512, kernel_size=(3, 3), stride=(1, 1), padding=(1, 1))\n",
       "    (25): ReLU(inplace=True)\n",
       "    (26): Conv2d(512, 512, kernel_size=(3, 3), stride=(1, 1), padding=(1, 1))\n",
       "    (27): ReLU(inplace=True)\n",
       "    (28): Conv2d(512, 512, kernel_size=(3, 3), stride=(1, 1), padding=(1, 1))\n",
       "    (29): ReLU(inplace=True)\n",
       "    (30): MaxPool2d(kernel_size=2, stride=2, padding=0, dilation=1, ceil_mode=False)\n",
       "  )\n",
       "  (avgpool): AdaptiveAvgPool2d(output_size=(7, 7))\n",
       "  (classifier): Sequential(\n",
       "    (0): Linear(in_features=25088, out_features=4096, bias=True)\n",
       "    (1): ReLU(inplace=True)\n",
       "    (2): Dropout(p=0.5, inplace=False)\n",
       "    (3): Linear(in_features=4096, out_features=4096, bias=True)\n",
       "    (4): ReLU(inplace=True)\n",
       "    (5): Dropout(p=0.5, inplace=False)\n",
       "    (6): Linear(in_features=4096, out_features=2, bias=True)\n",
       "  )\n",
       ")"
      ]
     },
     "metadata": {},
     "execution_count": 12
    }
   ],
   "metadata": {}
  },
  {
   "cell_type": "markdown",
   "source": [
    "# Section 3: Cost and Optimizer"
   ],
   "metadata": {}
  },
  {
   "cell_type": "code",
   "execution_count": 13,
   "source": [
    "#\n",
    "#  Create the Loss Function\n",
    "#\n",
    "cost = torch.nn.CrossEntropyLoss()\n",
    "\n",
    "#\n",
    "#  Create the optimizer\n",
    "#\n",
    "optimizer = torch.optim.Adam(model.parameters(), lr=lr)"
   ],
   "outputs": [],
   "metadata": {}
  },
  {
   "cell_type": "markdown",
   "source": [
    "# Section 4: Training Loop"
   ],
   "metadata": {}
  },
  {
   "cell_type": "code",
   "execution_count": 14,
   "source": [
    "#\n",
    "#  Run through epochs\n",
    "#\n",
    "\n",
    "\n",
    "training_loss = []\n",
    "training_accuracy = []\n",
    "validation_loss = []\n",
    "validation_accuracy = []\n",
    "\n",
    "for epoch in range(nepochs):\n",
    "\n",
    "    since = time.time()\n",
    "    print(\"-\"*10)\n",
    "    print(f'Epoch {epoch}/{nepochs}')\n",
    "\n",
    "    running_loss = 0.0\n",
    "    running_correct = 0\n",
    "\n",
    "    # Put the model into \"training\" mode (pertains to batch normalization etc etc)\n",
    "    model.train()\n",
    "\n",
    "    #\n",
    "    #  Run batches\n",
    "    #\n",
    "    param = \"train\"\n",
    "    for batchi, data in enumerate(train_dataloader):\n",
    "        \n",
    "        # (**) Grab thedata and send to device\n",
    "        X,y = data\n",
    "\n",
    "        X = X.to(device)\n",
    "        y = y.to(device)\n",
    "                \n",
    "        # (**) Important!\n",
    "        optimizer.zero_grad()\n",
    "\n",
    "        # Run through the data through the model \n",
    "        y_pred = model(X)\n",
    "        \n",
    "        # Used for accuracy quantification\n",
    "        _,pred = torch.max(y_pred.data, 1)\n",
    "        \n",
    "        # (**) Calcualte the loss\n",
    "        loss = cost(y_pred,y)\n",
    "\n",
    "        # (**) Update gradients.\n",
    "        loss.backward()\n",
    "        optimizer.step()\n",
    "\n",
    "        # Compute batch loss and accuracy\n",
    "        # loss.item() is the average loss over the batch\n",
    "        running_loss += loss.item() * X.shape[0]\n",
    "        \n",
    "        running_correct += torch.sum(pred == y.data)\n",
    "        \n",
    "        if batchi%5 == 4 and param == \"train\":\n",
    "            print(\"\\tBatch {}, Train Loss:{:.4f}, Train Accuracy:{:.4f}\".format(\n",
    "                    batchi, \n",
    "                    running_loss/(batch_size*(batchi+1)), \n",
    "                    100*running_correct/(batch_size*(batchi+1))))\n",
    "                                            \n",
    "\n",
    "    # \n",
    "    # Run Validation data\n",
    "    #\n",
    "    param = \"val\"\n",
    "    \n",
    "    # Put the model into evaluation mode (to do with batch normalization, dropout etc)\n",
    "    model.eval()\n",
    "    \n",
    "    # Don't update gradients\n",
    "    val_loss = 0\n",
    "    val_correct = 0\n",
    "    with torch.no_grad():\n",
    "        for batchi, data in enumerate(validation_dataloader):\n",
    "            \n",
    "            # Grab thedata and send to device\n",
    "            X,y = data\n",
    "\n",
    "            X = X.to(device)\n",
    "            y = y.to(device)\n",
    "            \n",
    "            # Run through the model \n",
    "            y_pred = model(X)\n",
    "            _,pred = torch.max(y_pred.data, 1)\n",
    "            \n",
    "            # Calcualte the loss\n",
    "            loss = cost(y_pred, y)\n",
    "\n",
    "            # loss.item() is the average loss over the batch\n",
    "            val_loss += loss.item() * batch_size\n",
    "            \n",
    "            val_correct += torch.sum(pred == y.data)\n",
    "            \n",
    "    # Epoch loss\n",
    "    training_loss.append(running_loss/len(train_dataset))\n",
    "    training_accuracy.append(100*running_correct/len(train_dataset))\n",
    "    print(\"Training Loss:{:.4f}, Accuracy:{:.1f}\".format(training_loss[-1], training_accuracy[-1]))\n",
    "\n",
    "    # Validation loss\n",
    "    validation_loss.append(val_loss/len(validation_dataset))\n",
    "    validation_accuracy.append(100*val_correct/len(validation_dataset))\n",
    "\n",
    "    print(\"Validation Loss:{:.4f}, Accuracy:{:.1f}\".format(\n",
    "        val_loss/len(validation_dataset), 100*val_correct/len(validation_dataset)))\n",
    "\n",
    "now_time = time.time() - since\n",
    "print(\"Training time is:{:.0f}m {:.0f}s\".format(now_time//60, now_time%60))"
   ],
   "outputs": [
    {
     "output_type": "stream",
     "name": "stdout",
     "text": [
      "----------\n",
      "Epoch 0/5\n",
      "\tBatch 4, Train Loss:0.4197, Train Accuracy:80.0000\n",
      "\tBatch 9, Train Loss:0.2133, Train Accuracy:90.0000\n",
      "\tBatch 14, Train Loss:0.1422, Train Accuracy:93.3333\n",
      "\tBatch 19, Train Loss:0.1066, Train Accuracy:95.0000\n",
      "\tBatch 24, Train Loss:0.0853, Train Accuracy:96.0000\n",
      "\tBatch 29, Train Loss:0.0711, Train Accuracy:96.6667\n",
      "\tBatch 34, Train Loss:0.0609, Train Accuracy:97.1429\n",
      "\tBatch 39, Train Loss:0.0533, Train Accuracy:97.5000\n",
      "\tBatch 44, Train Loss:0.0474, Train Accuracy:97.7778\n",
      "\tBatch 49, Train Loss:0.0427, Train Accuracy:98.0000\n",
      "\tBatch 54, Train Loss:0.0388, Train Accuracy:98.1818\n",
      "\tBatch 59, Train Loss:0.0428, Train Accuracy:98.1667\n",
      "\tBatch 64, Train Loss:0.1929, Train Accuracy:97.0769\n",
      "\tBatch 69, Train Loss:0.1791, Train Accuracy:97.2857\n",
      "\tBatch 74, Train Loss:0.1863, Train Accuracy:97.0667\n",
      "\tBatch 79, Train Loss:0.1746, Train Accuracy:97.2500\n",
      "\tBatch 84, Train Loss:0.1644, Train Accuracy:97.4118\n",
      "\tBatch 89, Train Loss:0.1600, Train Accuracy:97.4445\n",
      "\tBatch 94, Train Loss:0.1516, Train Accuracy:97.5789\n",
      "\tBatch 99, Train Loss:0.1440, Train Accuracy:97.7000\n",
      "\tBatch 104, Train Loss:0.1371, Train Accuracy:97.8095\n",
      "\tBatch 109, Train Loss:0.1332, Train Accuracy:97.8182\n",
      "\tBatch 114, Train Loss:0.1274, Train Accuracy:97.9130\n",
      "\tBatch 119, Train Loss:0.1221, Train Accuracy:98.0000\n",
      "\tBatch 124, Train Loss:0.1172, Train Accuracy:98.0800\n",
      "\tBatch 129, Train Loss:0.1127, Train Accuracy:98.1538\n",
      "\tBatch 134, Train Loss:0.1086, Train Accuracy:98.2222\n",
      "\tBatch 139, Train Loss:0.1047, Train Accuracy:98.2857\n",
      "Training Loss:0.1018, Accuracy:98.3\n",
      "Validation Loss:0.0000, Accuracy:100.0\n",
      "----------\n",
      "Epoch 1/5\n",
      "\tBatch 4, Train Loss:0.0000, Train Accuracy:100.0000\n",
      "\tBatch 9, Train Loss:0.0000, Train Accuracy:100.0000\n",
      "\tBatch 14, Train Loss:0.0000, Train Accuracy:100.0000\n",
      "\tBatch 19, Train Loss:0.0000, Train Accuracy:100.0000\n",
      "\tBatch 24, Train Loss:0.0000, Train Accuracy:100.0000\n",
      "\tBatch 29, Train Loss:0.0000, Train Accuracy:100.0000\n",
      "\tBatch 34, Train Loss:0.0000, Train Accuracy:100.0000\n",
      "\tBatch 39, Train Loss:0.0000, Train Accuracy:100.0000\n",
      "\tBatch 44, Train Loss:0.0000, Train Accuracy:100.0000\n",
      "\tBatch 49, Train Loss:0.0000, Train Accuracy:100.0000\n",
      "\tBatch 54, Train Loss:0.0000, Train Accuracy:100.0000\n",
      "\tBatch 59, Train Loss:0.0000, Train Accuracy:100.0000\n",
      "\tBatch 64, Train Loss:0.0000, Train Accuracy:100.0000\n",
      "\tBatch 69, Train Loss:0.0000, Train Accuracy:100.0000\n",
      "\tBatch 74, Train Loss:0.0000, Train Accuracy:100.0000\n",
      "\tBatch 79, Train Loss:0.0000, Train Accuracy:100.0000\n",
      "\tBatch 84, Train Loss:0.0000, Train Accuracy:100.0000\n",
      "\tBatch 89, Train Loss:0.0000, Train Accuracy:100.0000\n",
      "\tBatch 94, Train Loss:0.0000, Train Accuracy:100.0000\n",
      "\tBatch 99, Train Loss:0.0000, Train Accuracy:100.0000\n",
      "\tBatch 104, Train Loss:0.0000, Train Accuracy:100.0000\n",
      "\tBatch 109, Train Loss:0.0000, Train Accuracy:100.0000\n",
      "\tBatch 114, Train Loss:0.0000, Train Accuracy:100.0000\n",
      "\tBatch 119, Train Loss:0.0000, Train Accuracy:100.0000\n",
      "\tBatch 124, Train Loss:0.0000, Train Accuracy:100.0000\n",
      "\tBatch 129, Train Loss:0.0000, Train Accuracy:100.0000\n",
      "\tBatch 134, Train Loss:0.0000, Train Accuracy:100.0000\n",
      "\tBatch 139, Train Loss:0.0000, Train Accuracy:100.0000\n",
      "Training Loss:0.0000, Accuracy:100.0\n",
      "Validation Loss:0.0000, Accuracy:100.0\n",
      "----------\n",
      "Epoch 2/5\n",
      "\tBatch 4, Train Loss:0.0000, Train Accuracy:100.0000\n",
      "\tBatch 9, Train Loss:0.0000, Train Accuracy:100.0000\n",
      "\tBatch 14, Train Loss:0.0000, Train Accuracy:100.0000\n",
      "\tBatch 19, Train Loss:0.0000, Train Accuracy:100.0000\n",
      "\tBatch 24, Train Loss:0.0000, Train Accuracy:100.0000\n",
      "\tBatch 29, Train Loss:0.0000, Train Accuracy:100.0000\n",
      "\tBatch 34, Train Loss:0.0000, Train Accuracy:100.0000\n",
      "\tBatch 39, Train Loss:0.0000, Train Accuracy:100.0000\n",
      "\tBatch 44, Train Loss:0.0000, Train Accuracy:100.0000\n",
      "\tBatch 49, Train Loss:0.0000, Train Accuracy:100.0000\n",
      "\tBatch 54, Train Loss:0.0000, Train Accuracy:100.0000\n",
      "\tBatch 59, Train Loss:0.0000, Train Accuracy:100.0000\n",
      "\tBatch 64, Train Loss:0.0000, Train Accuracy:100.0000\n",
      "\tBatch 69, Train Loss:0.0000, Train Accuracy:100.0000\n",
      "\tBatch 74, Train Loss:0.0000, Train Accuracy:100.0000\n",
      "\tBatch 79, Train Loss:0.0000, Train Accuracy:100.0000\n",
      "\tBatch 84, Train Loss:0.0000, Train Accuracy:100.0000\n",
      "\tBatch 89, Train Loss:0.0000, Train Accuracy:100.0000\n",
      "\tBatch 94, Train Loss:0.0000, Train Accuracy:100.0000\n",
      "\tBatch 99, Train Loss:0.0000, Train Accuracy:100.0000\n",
      "\tBatch 104, Train Loss:0.0000, Train Accuracy:100.0000\n",
      "\tBatch 109, Train Loss:0.0000, Train Accuracy:100.0000\n",
      "\tBatch 114, Train Loss:0.0000, Train Accuracy:100.0000\n",
      "\tBatch 119, Train Loss:0.0000, Train Accuracy:100.0000\n",
      "\tBatch 124, Train Loss:0.0000, Train Accuracy:100.0000\n",
      "\tBatch 129, Train Loss:0.0000, Train Accuracy:100.0000\n",
      "\tBatch 134, Train Loss:0.0000, Train Accuracy:100.0000\n",
      "\tBatch 139, Train Loss:0.0000, Train Accuracy:100.0000\n",
      "Training Loss:0.0000, Accuracy:100.0\n",
      "Validation Loss:0.0000, Accuracy:100.0\n",
      "----------\n",
      "Epoch 3/5\n",
      "\tBatch 4, Train Loss:0.0000, Train Accuracy:100.0000\n",
      "\tBatch 9, Train Loss:0.0000, Train Accuracy:100.0000\n",
      "\tBatch 14, Train Loss:0.0000, Train Accuracy:100.0000\n",
      "\tBatch 19, Train Loss:0.0000, Train Accuracy:100.0000\n",
      "\tBatch 24, Train Loss:0.0000, Train Accuracy:100.0000\n",
      "\tBatch 29, Train Loss:0.0000, Train Accuracy:100.0000\n",
      "\tBatch 34, Train Loss:0.0000, Train Accuracy:100.0000\n",
      "\tBatch 39, Train Loss:0.0000, Train Accuracy:100.0000\n",
      "\tBatch 44, Train Loss:0.0000, Train Accuracy:100.0000\n",
      "\tBatch 49, Train Loss:0.0000, Train Accuracy:100.0000\n",
      "\tBatch 54, Train Loss:0.0000, Train Accuracy:100.0000\n",
      "\tBatch 59, Train Loss:0.0000, Train Accuracy:100.0000\n",
      "\tBatch 64, Train Loss:0.0000, Train Accuracy:100.0000\n",
      "\tBatch 69, Train Loss:0.0000, Train Accuracy:100.0000\n",
      "\tBatch 74, Train Loss:0.0000, Train Accuracy:100.0000\n",
      "\tBatch 79, Train Loss:0.0000, Train Accuracy:100.0000\n",
      "\tBatch 84, Train Loss:0.0000, Train Accuracy:100.0000\n",
      "\tBatch 89, Train Loss:0.0000, Train Accuracy:100.0000\n",
      "\tBatch 94, Train Loss:0.0000, Train Accuracy:100.0000\n",
      "\tBatch 99, Train Loss:0.0000, Train Accuracy:100.0000\n",
      "\tBatch 104, Train Loss:0.0000, Train Accuracy:100.0000\n",
      "\tBatch 109, Train Loss:0.0000, Train Accuracy:100.0000\n",
      "\tBatch 114, Train Loss:0.0000, Train Accuracy:100.0000\n",
      "\tBatch 119, Train Loss:0.0000, Train Accuracy:100.0000\n",
      "\tBatch 124, Train Loss:0.0000, Train Accuracy:100.0000\n",
      "\tBatch 129, Train Loss:0.0000, Train Accuracy:100.0000\n",
      "\tBatch 134, Train Loss:0.0000, Train Accuracy:100.0000\n",
      "\tBatch 139, Train Loss:0.0000, Train Accuracy:100.0000\n",
      "Training Loss:0.0000, Accuracy:100.0\n",
      "Validation Loss:0.0000, Accuracy:100.0\n",
      "----------\n",
      "Epoch 4/5\n",
      "\tBatch 4, Train Loss:0.0000, Train Accuracy:100.0000\n",
      "\tBatch 9, Train Loss:0.0000, Train Accuracy:100.0000\n",
      "\tBatch 14, Train Loss:0.0000, Train Accuracy:100.0000\n",
      "\tBatch 19, Train Loss:0.0000, Train Accuracy:100.0000\n",
      "\tBatch 24, Train Loss:0.0000, Train Accuracy:100.0000\n",
      "\tBatch 29, Train Loss:0.0000, Train Accuracy:100.0000\n",
      "\tBatch 34, Train Loss:0.0000, Train Accuracy:100.0000\n",
      "\tBatch 39, Train Loss:0.0000, Train Accuracy:100.0000\n",
      "\tBatch 44, Train Loss:0.0000, Train Accuracy:100.0000\n",
      "\tBatch 49, Train Loss:0.0000, Train Accuracy:100.0000\n",
      "\tBatch 54, Train Loss:0.0000, Train Accuracy:100.0000\n",
      "\tBatch 59, Train Loss:0.0000, Train Accuracy:100.0000\n",
      "\tBatch 64, Train Loss:0.0000, Train Accuracy:100.0000\n",
      "\tBatch 69, Train Loss:0.0000, Train Accuracy:100.0000\n",
      "\tBatch 74, Train Loss:0.0000, Train Accuracy:100.0000\n",
      "\tBatch 79, Train Loss:0.0000, Train Accuracy:100.0000\n",
      "\tBatch 84, Train Loss:0.0000, Train Accuracy:100.0000\n",
      "\tBatch 89, Train Loss:0.0000, Train Accuracy:100.0000\n",
      "\tBatch 94, Train Loss:0.0000, Train Accuracy:100.0000\n",
      "\tBatch 99, Train Loss:0.0000, Train Accuracy:100.0000\n",
      "\tBatch 104, Train Loss:0.0000, Train Accuracy:100.0000\n",
      "\tBatch 109, Train Loss:0.0000, Train Accuracy:100.0000\n",
      "\tBatch 114, Train Loss:0.0000, Train Accuracy:100.0000\n",
      "\tBatch 119, Train Loss:0.0000, Train Accuracy:100.0000\n",
      "\tBatch 124, Train Loss:0.0000, Train Accuracy:100.0000\n",
      "\tBatch 129, Train Loss:0.0000, Train Accuracy:100.0000\n",
      "\tBatch 134, Train Loss:0.0000, Train Accuracy:100.0000\n",
      "\tBatch 139, Train Loss:0.0000, Train Accuracy:100.0000\n",
      "Training Loss:0.0000, Accuracy:100.0\n",
      "Validation Loss:0.0000, Accuracy:100.0\n",
      "Training time is:0m 20s\n"
     ]
    }
   ],
   "metadata": {}
  },
  {
   "cell_type": "markdown",
   "source": [
    "# Statistics and Information"
   ],
   "metadata": {}
  },
  {
   "cell_type": "markdown",
   "source": [
    "## Loss and Accuracy Curves"
   ],
   "metadata": {}
  },
  {
   "cell_type": "code",
   "execution_count": 15,
   "source": [
    "plt.figure(figsize=[10,4])\n",
    "\n",
    "# Loss\n",
    "plt.subplot(1,2,1)\n",
    "plt.plot(training_loss)\n",
    "plt.plot(validation_loss)\n",
    "plt.legend(['Training', 'Validation'])\n",
    "plt.title('Loss')\n",
    "plt.grid('on')\n",
    "\n",
    "# Accuracy\n",
    "plt.subplot(1,2,2)\n",
    "plt.plot(training_accuracy)\n",
    "plt.plot(validation_accuracy)\n",
    "plt.legend(['Training', 'Validation'])\n",
    "plt.title('Accuracy')\n",
    "plt.grid('on')"
   ],
   "outputs": [
    {
     "output_type": "display_data",
     "data": {
      "image/png": "[encoded data removed]",
      "text/plain": [
       "<Figure size 720x288 with 2 Axes>"
      ]
     },
     "metadata": {
      "needs_background": "light"
     }
    }
   ],
   "metadata": {}
  },
  {
   "cell_type": "markdown",
   "source": [
    "# Section 5: Testing"
   ],
   "metadata": {}
  },
  {
   "cell_type": "code",
   "execution_count": 16,
   "source": [
    "#\n",
    "#  Test dataset\n",
    "#\n",
    "\n",
    "# Create the validation dataset\n",
    "test_dataset = MedMNISTDataset(filenames_test, labels, transform=validation_transform)\n",
    "\n",
    "# Create the validation dataloader\n",
    "test_dataloader = DataLoader(test_dataset, batch_size=batch_size)"
   ],
   "outputs": [],
   "metadata": {}
  },
  {
   "cell_type": "code",
   "execution_count": 17,
   "source": [
    "y_label_all = []\n",
    "y_pred_all = []\n",
    "pred_all = []\n",
    "\n",
    "with torch.no_grad():\n",
    "    \n",
    "    # Put the model in evaluation (batch normalization and dropout stuff)\n",
    "    model.eval()\n",
    "\n",
    "    # Get the next test dataset\n",
    "    for image, label in test_dataloader:\n",
    "    \n",
    "        # Send to the device and call the model\n",
    "        image = image.to(device)\n",
    "        label = label.to(device)\n",
    "        \n",
    "        y_pred = model(image)\n",
    "        _,pred = torch.max(y_pred.data, 1)\n",
    "\n",
    "        y_label_all.append(label.cpu().detach().numpy())\n",
    "        y_pred_all.append(y_pred.cpu().detach().numpy()[:,1])\n",
    "        pred_all.append(pred.cpu().detach().numpy())\n",
    "\n",
    "        # Compute loss and stats\n",
    "        test_correct = torch.sum(pred == label.data)\n",
    "\n",
    "    y_label_all = np.array(y_label_all).ravel()\n",
    "    y_pred_all = np.array(y_pred_all).ravel()\n",
    "    pred_all = np.array(pred_all).ravel()\n",
    "\n",
    "    # Classification Report\n",
    "    print('\\n\\nClassification Report')\n",
    "    print(classification_report(pred_all, y_label_all, target_names=labels))\n",
    "    \n",
    "    # Confusion Matrix\n",
    "    print('\\n\\nConfusion Matrix')\n",
    "    cm = confusion_matrix(pred_all, y_label_all)\n",
    "    plot_confusion_matrix(cm, labels, normalize=False)\n"
   ],
   "outputs": [
    {
     "output_type": "stream",
     "name": "stdout",
     "text": [
      "\n",
      "\n",
      "Classification Report\n",
      "              precision    recall  f1-score   support\n",
      "\n",
      "      HeadCT       1.00      1.00      1.00       188\n",
      "        Hand       1.00      1.00      1.00       212\n",
      "\n",
      "    accuracy                           1.00       400\n",
      "   macro avg       1.00      1.00      1.00       400\n",
      "weighted avg       1.00      1.00      1.00       400\n",
      "\n",
      "\n",
      "\n",
      "Confusion Matrix\n"
     ]
    },
    {
     "output_type": "display_data",
     "data": {
      "image/png": "[encoded data removed]",
      "text/plain": [
       "<Figure size 360x288 with 2 Axes>"
      ]
     },
     "metadata": {
      "needs_background": "light"
     }
    }
   ],
   "metadata": {}
  },
  {
   "cell_type": "code",
   "execution_count": 18,
   "source": [
    "fpr, tpr, thresholds = roc_curve(y_label_all, y_pred_all)\n",
    "plt.plot(fpr, tpr)\n",
    "plt.xlabel('False Positive Rate', fontsize=12)\n",
    "plt.ylabel('True Positive Rate', fontsize=12)\n",
    "plt.title(f'ROC Curve {roc_auc_score(y_label_all, y_pred_all):0.3}')\n",
    "plt.grid('on')"
   ],
   "outputs": [
    {
     "output_type": "display_data",
     "data": {
      "image/png": "[encoded data removed]",
      "text/plain": [
       "<Figure size 432x288 with 1 Axes>"
      ]
     },
     "metadata": {
      "needs_background": "light"
     }
    }
   ],
   "metadata": {}
  },
  {
   "cell_type": "code",
   "execution_count": null,
   "source": [],
   "outputs": [],
   "metadata": {}
  }
 ],
 "metadata": {
  "kernelspec": {
   "name": "python3",
   "display_name": "Python 3.8.0 64-bit ('venv-38': venv)"
  },
  "language_info": {
   "codemirror_mode": {
    "name": "ipython",
    "version": 3
   },
   "file_extension": ".py",
   "mimetype": "text/x-python",
   "name": "python",
   "nbconvert_exporter": "python",
   "pygments_lexer": "ipython3",
   "version": "3.8.0"
  },
  "interpreter": {
   "hash": "6f2209171a0f87f68cb7cf811d549157a18d089858ed796ee0092d8e6a1bd0fd"
  }
 },
 "nbformat": 4,
 "nbformat_minor": 4
}